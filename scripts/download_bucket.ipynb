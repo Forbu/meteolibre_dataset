{
 "cells": [
  {
   "cell_type": "markdown",
   "metadata": {},
   "source": [
    "### Download bucket\n",
    "In this notebook we will list the files in the bucket and download them.\n",
    "\n",
    "\n"
   ]
  },
  {
   "cell_type": "code",
   "execution_count": 2,
   "metadata": {},
   "outputs": [
    {
     "ename": "ModuleNotFoundError",
     "evalue": "No module named 'google.cloud'",
     "output_type": "error",
     "traceback": [
      "\u001b[0;31m---------------------------------------------------------------------------\u001b[0m",
      "\u001b[0;31mModuleNotFoundError\u001b[0m                       Traceback (most recent call last)",
      "Cell \u001b[0;32mIn[2], line 2\u001b[0m\n\u001b[1;32m      1\u001b[0m \u001b[38;5;28;01mimport\u001b[39;00m \u001b[38;5;21;01mos\u001b[39;00m\n\u001b[0;32m----> 2\u001b[0m \u001b[38;5;28;01mfrom\u001b[39;00m \u001b[38;5;21;01mgoogle\u001b[39;00m\u001b[38;5;21;01m.\u001b[39;00m\u001b[38;5;21;01mcloud\u001b[39;00m \u001b[38;5;28;01mimport\u001b[39;00m storage\n\u001b[1;32m      3\u001b[0m \u001b[38;5;28;01mimport\u001b[39;00m \u001b[38;5;21;01mgoogle\u001b[39;00m\u001b[38;5;21;01m.\u001b[39;00m\u001b[38;5;21;01mauth\u001b[39;00m\n\u001b[1;32m      6\u001b[0m bucket_name \u001b[38;5;241m=\u001b[39m \u001b[38;5;124m\"\u001b[39m\u001b[38;5;124mmeteofrancedata\u001b[39m\u001b[38;5;124m\"\u001b[39m\n",
      "\u001b[0;31mModuleNotFoundError\u001b[0m: No module named 'google.cloud'"
     ]
    }
   ],
   "source": [
    "import os\n",
    "from google.cloud import storage\n",
    "import google.auth\n",
    "\n",
    "\n",
    "bucket_name = \"meteofrancedata\"\n",
    "\n",
    "\n",
    "\n",
    "## llist the files in the bucket\n",
    "# Check if running on Google Cloud Environment\n",
    "if os.environ.get(\"GOOGLE_APPLICATION_CREDENTIALS\") is None:\n",
    "    # Load credentials from a service account key file if not on GCE\n",
    "    try:\n",
    "        credentials, project = google.auth.default()\n",
    "        storage_client = storage.Client(credentials=credentials)\n",
    "    except google.auth.exceptions.DefaultCredentialsError:\n",
    "        print(\"Could not automatically determine credentials.  Please set GOOGLE_APPLICATION_CREDENTIALS or ensure you are running in a Google Cloud environment.\")\n",
    "        storage_client = None # Handle the case where credentials are not available\n",
    "else:\n",
    "    storage_client = storage.Client()\n",
    "\n",
    "if storage_client:\n",
    "    bucket = storage_client.bucket(bucket_name)\n",
    "\n",
    "    blob_list = bucket.list_blobs()\n",
    "\n",
    "    print([blob.name for blob in blob_list])\n",
    "else:\n",
    "    print(\"Storage client not initialized. Check credentials.\")"
   ]
  },
  {
   "cell_type": "code",
   "execution_count": 3,
   "metadata": {},
   "outputs": [
    {
     "name": "stdout",
     "output_type": "stream",
     "text": [
      "3.9.6 (default, May  7 2023, 23:32:44) \n",
      "[Clang 14.0.3 (clang-1403.0.22.14.1)]\n"
     ]
    }
   ],
   "source": [
    "import sys\n",
    "\n",
    "# get python interpreter version\n",
    "print(sys.version)"
   ]
  },
  {
   "cell_type": "code",
   "execution_count": null,
   "metadata": {},
   "outputs": [],
   "source": []
  }
 ],
 "metadata": {
  "kernelspec": {
   "display_name": "Python 3",
   "language": "python",
   "name": "python3"
  },
  "language_info": {
   "codemirror_mode": {
    "name": "ipython",
    "version": 3
   },
   "file_extension": ".py",
   "mimetype": "text/x-python",
   "name": "python",
   "nbconvert_exporter": "python",
   "pygments_lexer": "ipython3",
   "version": "3.9.6"
  }
 },
 "nbformat": 4,
 "nbformat_minor": 2
}
